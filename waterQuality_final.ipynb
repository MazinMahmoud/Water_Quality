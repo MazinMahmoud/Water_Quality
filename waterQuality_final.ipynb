{
  "cells": [
    {
      "cell_type": "markdown",
      "metadata": {
        "id": "mKFc_dHG4-IT"
      },
      "source": [
        "# ```Importing libraries & Reading the data```"
      ]
    },
    {
      "cell_type": "code",
      "execution_count": 4,
      "metadata": {
        "id": "-Wyidtzw4-Ij"
      },
      "outputs": [],
      "source": [
        "import pandas as pd\n",
        "import numpy as np\n",
        "import matplotlib.pyplot as plt\n",
        "import seaborn as sns\n",
        "import warnings\n",
        "# Ignore warnings\n",
        "warnings.filterwarnings('ignore')"
      ]
    },
    {
      "cell_type": "code",
      "execution_count": 5,
      "metadata": {
        "id": "bMSiXUqn4-It"
      },
      "outputs": [],
      "source": [
        "#reading the data\n",
        "df=pd.read_excel(\"/water quality/water_potability.xlsx\")"
      ]
    },
    {
      "cell_type": "code",
      "execution_count": 6,
      "metadata": {
        "colab": {
          "base_uri": "https://localhost:8080/",
          "height": 226
        },
        "id": "AT3mdiqv4-Iw",
        "outputId": "e5b9638e-6320-40f0-9c78-7231974ccb14"
      },
      "outputs": [
        {
          "data": {
            "text/html": [
              "<div>\n",
              "<style scoped>\n",
              "    .dataframe tbody tr th:only-of-type {\n",
              "        vertical-align: middle;\n",
              "    }\n",
              "\n",
              "    .dataframe tbody tr th {\n",
              "        vertical-align: top;\n",
              "    }\n",
              "\n",
              "    .dataframe thead th {\n",
              "        text-align: right;\n",
              "    }\n",
              "</style>\n",
              "<table border=\"1\" class=\"dataframe\">\n",
              "  <thead>\n",
              "    <tr style=\"text-align: right;\">\n",
              "      <th></th>\n",
              "      <th>ph</th>\n",
              "      <th>Hardness</th>\n",
              "      <th>Solids</th>\n",
              "      <th>Chloramines</th>\n",
              "      <th>Sulfate</th>\n",
              "      <th>Conductivity</th>\n",
              "      <th>Organic_carbon</th>\n",
              "      <th>Trihalomethanes</th>\n",
              "      <th>Turbidity</th>\n",
              "      <th>Potability</th>\n",
              "    </tr>\n",
              "  </thead>\n",
              "  <tbody>\n",
              "    <tr>\n",
              "      <th>0</th>\n",
              "      <td>NaN</td>\n",
              "      <td>204.890455</td>\n",
              "      <td>20791.318981</td>\n",
              "      <td>7.300212</td>\n",
              "      <td>368.516441</td>\n",
              "      <td>564.308654</td>\n",
              "      <td>10.379783</td>\n",
              "      <td>86.990970</td>\n",
              "      <td>2.963135</td>\n",
              "      <td>0</td>\n",
              "    </tr>\n",
              "    <tr>\n",
              "      <th>1</th>\n",
              "      <td>3.716080</td>\n",
              "      <td>129.422921</td>\n",
              "      <td>18630.057858</td>\n",
              "      <td>6.635246</td>\n",
              "      <td>NaN</td>\n",
              "      <td>592.885359</td>\n",
              "      <td>15.180013</td>\n",
              "      <td>56.329076</td>\n",
              "      <td>4.500656</td>\n",
              "      <td>0</td>\n",
              "    </tr>\n",
              "    <tr>\n",
              "      <th>2</th>\n",
              "      <td>8.099124</td>\n",
              "      <td>224.236259</td>\n",
              "      <td>19909.541732</td>\n",
              "      <td>9.275884</td>\n",
              "      <td>NaN</td>\n",
              "      <td>418.606213</td>\n",
              "      <td>16.868637</td>\n",
              "      <td>66.420093</td>\n",
              "      <td>3.055934</td>\n",
              "      <td>0</td>\n",
              "    </tr>\n",
              "    <tr>\n",
              "      <th>3</th>\n",
              "      <td>8.316766</td>\n",
              "      <td>214.373394</td>\n",
              "      <td>22018.417441</td>\n",
              "      <td>8.059332</td>\n",
              "      <td>356.886136</td>\n",
              "      <td>363.266516</td>\n",
              "      <td>18.436524</td>\n",
              "      <td>100.341674</td>\n",
              "      <td>4.628771</td>\n",
              "      <td>0</td>\n",
              "    </tr>\n",
              "    <tr>\n",
              "      <th>4</th>\n",
              "      <td>9.092223</td>\n",
              "      <td>181.101509</td>\n",
              "      <td>17978.986339</td>\n",
              "      <td>6.546600</td>\n",
              "      <td>310.135738</td>\n",
              "      <td>398.410813</td>\n",
              "      <td>11.558279</td>\n",
              "      <td>31.997993</td>\n",
              "      <td>4.075075</td>\n",
              "      <td>0</td>\n",
              "    </tr>\n",
              "  </tbody>\n",
              "</table>\n",
              "</div>"
            ],
            "text/plain": [
              "         ph    Hardness        Solids  Chloramines     Sulfate  Conductivity  \\\n",
              "0       NaN  204.890455  20791.318981     7.300212  368.516441    564.308654   \n",
              "1  3.716080  129.422921  18630.057858     6.635246         NaN    592.885359   \n",
              "2  8.099124  224.236259  19909.541732     9.275884         NaN    418.606213   \n",
              "3  8.316766  214.373394  22018.417441     8.059332  356.886136    363.266516   \n",
              "4  9.092223  181.101509  17978.986339     6.546600  310.135738    398.410813   \n",
              "\n",
              "   Organic_carbon  Trihalomethanes  Turbidity  Potability  \n",
              "0       10.379783        86.990970   2.963135           0  \n",
              "1       15.180013        56.329076   4.500656           0  \n",
              "2       16.868637        66.420093   3.055934           0  \n",
              "3       18.436524       100.341674   4.628771           0  \n",
              "4       11.558279        31.997993   4.075075           0  "
            ]
          },
          "execution_count": 6,
          "metadata": {},
          "output_type": "execute_result"
        }
      ],
      "source": [
        "#displaying first 5 elements\n",
        "df.head()"
      ]
    },
    {
      "cell_type": "code",
      "execution_count": 7,
      "metadata": {
        "colab": {
          "base_uri": "https://localhost:8080/"
        },
        "id": "kIq-5Q174-I1",
        "outputId": "2c441a05-703a-4ac9-aa3b-919695a55c1a"
      },
      "outputs": [
        {
          "data": {
            "text/plain": [
              "(3276, 10)"
            ]
          },
          "execution_count": 7,
          "metadata": {},
          "output_type": "execute_result"
        }
      ],
      "source": [
        "#seeing the dimentins of data\n",
        "df.shape"
      ]
    },
    {
      "cell_type": "code",
      "execution_count": 8,
      "metadata": {
        "colab": {
          "base_uri": "https://localhost:8080/"
        },
        "id": "eTBb1TNx4-I2",
        "outputId": "f6080c50-b2ba-4323-980a-75e9ed2c1dab"
      },
      "outputs": [
        {
          "name": "stdout",
          "output_type": "stream",
          "text": [
            "<class 'pandas.core.frame.DataFrame'>\n",
            "RangeIndex: 3276 entries, 0 to 3275\n",
            "Data columns (total 10 columns):\n",
            " #   Column           Non-Null Count  Dtype  \n",
            "---  ------           --------------  -----  \n",
            " 0   ph               2785 non-null   float64\n",
            " 1   Hardness         3276 non-null   float64\n",
            " 2   Solids           3276 non-null   float64\n",
            " 3   Chloramines      3276 non-null   float64\n",
            " 4   Sulfate          2495 non-null   float64\n",
            " 5   Conductivity     3276 non-null   float64\n",
            " 6   Organic_carbon   3276 non-null   float64\n",
            " 7   Trihalomethanes  3114 non-null   float64\n",
            " 8   Turbidity        3276 non-null   float64\n",
            " 9   Potability       3276 non-null   int64  \n",
            "dtypes: float64(9), int64(1)\n",
            "memory usage: 256.1 KB\n"
          ]
        }
      ],
      "source": [
        "df.info() #checking data types of columns"
      ]
    },
    {
      "cell_type": "code",
      "execution_count": 9,
      "metadata": {},
      "outputs": [
        {
          "data": {
            "text/html": [
              "<div>\n",
              "<style scoped>\n",
              "    .dataframe tbody tr th:only-of-type {\n",
              "        vertical-align: middle;\n",
              "    }\n",
              "\n",
              "    .dataframe tbody tr th {\n",
              "        vertical-align: top;\n",
              "    }\n",
              "\n",
              "    .dataframe thead th {\n",
              "        text-align: right;\n",
              "    }\n",
              "</style>\n",
              "<table border=\"1\" class=\"dataframe\">\n",
              "  <thead>\n",
              "    <tr style=\"text-align: right;\">\n",
              "      <th></th>\n",
              "      <th>ph</th>\n",
              "      <th>Hardness</th>\n",
              "      <th>Solids</th>\n",
              "      <th>Chloramines</th>\n",
              "      <th>Sulfate</th>\n",
              "      <th>Conductivity</th>\n",
              "      <th>Organic_carbon</th>\n",
              "      <th>Trihalomethanes</th>\n",
              "      <th>Turbidity</th>\n",
              "      <th>Potability</th>\n",
              "    </tr>\n",
              "  </thead>\n",
              "  <tbody>\n",
              "    <tr>\n",
              "      <th>count</th>\n",
              "      <td>2785.000000</td>\n",
              "      <td>3276.000000</td>\n",
              "      <td>3276.000000</td>\n",
              "      <td>3276.000000</td>\n",
              "      <td>2495.000000</td>\n",
              "      <td>3276.000000</td>\n",
              "      <td>3276.000000</td>\n",
              "      <td>3114.000000</td>\n",
              "      <td>3276.000000</td>\n",
              "      <td>3276.000000</td>\n",
              "    </tr>\n",
              "    <tr>\n",
              "      <th>mean</th>\n",
              "      <td>7.080795</td>\n",
              "      <td>196.369496</td>\n",
              "      <td>22014.092526</td>\n",
              "      <td>7.122277</td>\n",
              "      <td>333.775777</td>\n",
              "      <td>426.205111</td>\n",
              "      <td>14.284970</td>\n",
              "      <td>66.396293</td>\n",
              "      <td>3.966786</td>\n",
              "      <td>0.390110</td>\n",
              "    </tr>\n",
              "    <tr>\n",
              "      <th>std</th>\n",
              "      <td>1.594320</td>\n",
              "      <td>32.879761</td>\n",
              "      <td>8768.570828</td>\n",
              "      <td>1.583085</td>\n",
              "      <td>41.416840</td>\n",
              "      <td>80.824064</td>\n",
              "      <td>3.308162</td>\n",
              "      <td>16.175008</td>\n",
              "      <td>0.780382</td>\n",
              "      <td>0.487849</td>\n",
              "    </tr>\n",
              "    <tr>\n",
              "      <th>min</th>\n",
              "      <td>0.000000</td>\n",
              "      <td>47.432000</td>\n",
              "      <td>320.942611</td>\n",
              "      <td>0.352000</td>\n",
              "      <td>129.000000</td>\n",
              "      <td>181.483754</td>\n",
              "      <td>2.200000</td>\n",
              "      <td>0.738000</td>\n",
              "      <td>1.450000</td>\n",
              "      <td>0.000000</td>\n",
              "    </tr>\n",
              "    <tr>\n",
              "      <th>25%</th>\n",
              "      <td>6.093092</td>\n",
              "      <td>176.850538</td>\n",
              "      <td>15666.690297</td>\n",
              "      <td>6.127421</td>\n",
              "      <td>307.699498</td>\n",
              "      <td>365.734414</td>\n",
              "      <td>12.065801</td>\n",
              "      <td>55.844536</td>\n",
              "      <td>3.439711</td>\n",
              "      <td>0.000000</td>\n",
              "    </tr>\n",
              "    <tr>\n",
              "      <th>50%</th>\n",
              "      <td>7.036752</td>\n",
              "      <td>196.967627</td>\n",
              "      <td>20927.833607</td>\n",
              "      <td>7.130299</td>\n",
              "      <td>333.073546</td>\n",
              "      <td>421.884968</td>\n",
              "      <td>14.218338</td>\n",
              "      <td>66.622485</td>\n",
              "      <td>3.955028</td>\n",
              "      <td>0.000000</td>\n",
              "    </tr>\n",
              "    <tr>\n",
              "      <th>75%</th>\n",
              "      <td>8.062066</td>\n",
              "      <td>216.667456</td>\n",
              "      <td>27332.762127</td>\n",
              "      <td>8.114887</td>\n",
              "      <td>359.950170</td>\n",
              "      <td>481.792304</td>\n",
              "      <td>16.557652</td>\n",
              "      <td>77.337473</td>\n",
              "      <td>4.500320</td>\n",
              "      <td>1.000000</td>\n",
              "    </tr>\n",
              "    <tr>\n",
              "      <th>max</th>\n",
              "      <td>14.000000</td>\n",
              "      <td>323.124000</td>\n",
              "      <td>61227.196008</td>\n",
              "      <td>13.127000</td>\n",
              "      <td>481.030642</td>\n",
              "      <td>753.342620</td>\n",
              "      <td>28.300000</td>\n",
              "      <td>124.000000</td>\n",
              "      <td>6.739000</td>\n",
              "      <td>1.000000</td>\n",
              "    </tr>\n",
              "  </tbody>\n",
              "</table>\n",
              "</div>"
            ],
            "text/plain": [
              "                ph     Hardness        Solids  Chloramines      Sulfate  \\\n",
              "count  2785.000000  3276.000000   3276.000000  3276.000000  2495.000000   \n",
              "mean      7.080795   196.369496  22014.092526     7.122277   333.775777   \n",
              "std       1.594320    32.879761   8768.570828     1.583085    41.416840   \n",
              "min       0.000000    47.432000    320.942611     0.352000   129.000000   \n",
              "25%       6.093092   176.850538  15666.690297     6.127421   307.699498   \n",
              "50%       7.036752   196.967627  20927.833607     7.130299   333.073546   \n",
              "75%       8.062066   216.667456  27332.762127     8.114887   359.950170   \n",
              "max      14.000000   323.124000  61227.196008    13.127000   481.030642   \n",
              "\n",
              "       Conductivity  Organic_carbon  Trihalomethanes    Turbidity   Potability  \n",
              "count   3276.000000     3276.000000      3114.000000  3276.000000  3276.000000  \n",
              "mean     426.205111       14.284970        66.396293     3.966786     0.390110  \n",
              "std       80.824064        3.308162        16.175008     0.780382     0.487849  \n",
              "min      181.483754        2.200000         0.738000     1.450000     0.000000  \n",
              "25%      365.734414       12.065801        55.844536     3.439711     0.000000  \n",
              "50%      421.884968       14.218338        66.622485     3.955028     0.000000  \n",
              "75%      481.792304       16.557652        77.337473     4.500320     1.000000  \n",
              "max      753.342620       28.300000       124.000000     6.739000     1.000000  "
            ]
          },
          "execution_count": 9,
          "metadata": {},
          "output_type": "execute_result"
        }
      ],
      "source": [
        "#analysing statisical mesurmants data\n",
        "df.describe()"
      ]
    },
    {
      "cell_type": "markdown",
      "metadata": {
        "id": "kUfRwsXH4-I5"
      },
      "source": [
        "# ```data preprocessing```"
      ]
    },
    {
      "cell_type": "markdown",
      "metadata": {},
      "source": [
        "## nulls handling"
      ]
    },
    {
      "cell_type": "markdown",
      "metadata": {},
      "source": [
        "### calculate percenatage"
      ]
    },
    {
      "cell_type": "code",
      "execution_count": 10,
      "metadata": {
        "colab": {
          "base_uri": "https://localhost:8080/"
        },
        "id": "mYo62Wej4-I6",
        "outputId": "3b48bca3-3b35-4fe9-d66e-5268579a7fd8"
      },
      "outputs": [
        {
          "data": {
            "text/plain": [
              "ph                 491\n",
              "Hardness             0\n",
              "Solids               0\n",
              "Chloramines          0\n",
              "Sulfate            781\n",
              "Conductivity         0\n",
              "Organic_carbon       0\n",
              "Trihalomethanes    162\n",
              "Turbidity            0\n",
              "Potability           0\n",
              "dtype: int64"
            ]
          },
          "execution_count": 10,
          "metadata": {},
          "output_type": "execute_result"
        }
      ],
      "source": [
        "#calculating null values\n",
        "df.isnull().sum()"
      ]
    },
    {
      "cell_type": "code",
      "execution_count": 11,
      "metadata": {
        "colab": {
          "base_uri": "https://localhost:8080/"
        },
        "id": "XnqLntlj4-JC",
        "outputId": "7cdf02b3-9567-4d7f-bb40-1dd8a6656c61"
      },
      "outputs": [
        {
          "name": "stdout",
          "output_type": "stream",
          "text": [
            "ph                 14.987790\n",
            "Hardness            0.000000\n",
            "Solids              0.000000\n",
            "Chloramines         0.000000\n",
            "Sulfate            23.840049\n",
            "Conductivity        0.000000\n",
            "Organic_carbon      0.000000\n",
            "Trihalomethanes     4.945055\n",
            "Turbidity           0.000000\n",
            "Potability          0.000000\n",
            "dtype: float64\n"
          ]
        }
      ],
      "source": [
        "print(df.isnull().sum()/len(df) * 100)\n"
      ]
    },
    {
      "cell_type": "markdown",
      "metadata": {
        "id": "WXIO-HUt4-JF"
      },
      "source": [
        "we will drop rows that conatin nulls in ph and Trihalomethanes columns"
      ]
    },
    {
      "cell_type": "code",
      "execution_count": 12,
      "metadata": {
        "colab": {
          "base_uri": "https://localhost:8080/"
        },
        "id": "bk2ES33s4-JF",
        "outputId": "0a2b2897-7ca1-4203-8c7f-52065795a2a7"
      },
      "outputs": [
        {
          "data": {
            "text/plain": [
              "ph                 491\n",
              "Hardness             0\n",
              "Solids               0\n",
              "Chloramines          0\n",
              "Sulfate            781\n",
              "Conductivity         0\n",
              "Organic_carbon       0\n",
              "Trihalomethanes    162\n",
              "Turbidity            0\n",
              "Potability           0\n",
              "dtype: int64"
            ]
          },
          "execution_count": 12,
          "metadata": {},
          "output_type": "execute_result"
        }
      ],
      "source": [
        "\n",
        "# df.dropna(subset=['Trihalomethanes'], inplace=True)\n",
        "df.isnull().sum()"
      ]
    },
    {
      "cell_type": "markdown",
      "metadata": {
        "id": "IA2-A1004-JI"
      },
      "source": [
        "we will check whether 'sulphate' and 'ph' column is normally distributed or not to replace with mean"
      ]
    },
    {
      "cell_type": "markdown",
      "metadata": {},
      "source": [
        "### distrubution check"
      ]
    },
    {
      "cell_type": "code",
      "execution_count": 13,
      "metadata": {
        "colab": {
          "base_uri": "https://localhost:8080/"
        },
        "id": "cvPY0Cob4-JK",
        "outputId": "8cfc9f54-71cd-4c60-bc7f-cda8ba23290c"
      },
      "outputs": [
        {
          "name": "stdout",
          "output_type": "stream",
          "text": [
            "Skewness: nan\n",
            "Skewness: nan\n"
          ]
        }
      ],
      "source": [
        "from scipy import stats\n",
        "skewness = stats.skew(df['Sulfate'])\n",
        "print(f\"Skewness: {skewness}\")\n",
        "skewness = stats.skew(df['ph'])\n",
        "print(f\"Skewness: {skewness}\")\n",
        "\n"
      ]
    },
    {
      "cell_type": "code",
      "execution_count": 14,
      "metadata": {
        "colab": {
          "base_uri": "https://localhost:8080/",
          "height": 472
        },
        "id": "8ld2Ndrd4-JM",
        "outputId": "333b5c74-11cc-4660-d055-8d0dd4f3d1e6"
      },
      "outputs": [
        {
          "data": {
            "image/png": "[encoded data removed]",
            "text/plain": [
              "<Figure size 640x480 with 1 Axes>"
            ]
          },
          "metadata": {},
          "output_type": "display_data"
        }
      ],
      "source": [
        "sns.histplot(df['Sulfate'], kde=True)\n",
        "plt.title('Histogram of Sulfate')\n",
        "plt.show()\n"
      ]
    },
    {
      "cell_type": "code",
      "execution_count": 15,
      "metadata": {
        "colab": {
          "base_uri": "https://localhost:8080/",
          "height": 472
        },
        "id": "lcfRHNTq4-JQ",
        "outputId": "76d80854-7a6a-4b9c-c665-95ceae01cc1d"
      },
      "outputs": [
        {
          "data": {
            "image/png": "[encoded data removed]",
            "text/plain": [
              "<Figure size 640x480 with 1 Axes>"
            ]
          },
          "metadata": {},
          "output_type": "display_data"
        }
      ],
      "source": [
        "sns.histplot(df['ph'], kde=True)\n",
        "plt.title('Histogram of ph')\n",
        "plt.show()"
      ]
    },
    {
      "cell_type": "markdown",
      "metadata": {
        "id": "i4Ey7C4c4-JS"
      },
      "source": [
        "by visulaising the distruibition and statistal analysis we found that it's normally distributed and we can replace with mean"
      ]
    },
    {
      "cell_type": "markdown",
      "metadata": {},
      "source": [
        "### nulls replacment"
      ]
    },
    {
      "cell_type": "code",
      "execution_count": 16,
      "metadata": {
        "id": "6gGLTCsl4-JT"
      },
      "outputs": [],
      "source": [
        "# df['ph'].fillna(df['ph'].mean(),inplace = True)"
      ]
    },
    {
      "cell_type": "code",
      "execution_count": 17,
      "metadata": {
        "id": "7S_RZQvx4-JV"
      },
      "outputs": [],
      "source": [
        "# df['Sulfate'].fillna(df['Sulfate'].mean(), inplace=True)\n",
        "for col in df.columns:\n",
        "    df[col] = df[col].fillna(df.groupby('Potability')[col].transform('mean'))"
      ]
    },
    {
      "cell_type": "code",
      "execution_count": 18,
      "metadata": {
        "colab": {
          "base_uri": "https://localhost:8080/"
        },
        "id": "r-PlDPF-4-JX",
        "outputId": "710335ac-0fa0-4dc9-bc9e-b4396674b912"
      },
      "outputs": [
        {
          "data": {
            "text/plain": [
              "ph                 0\n",
              "Hardness           0\n",
              "Solids             0\n",
              "Chloramines        0\n",
              "Sulfate            0\n",
              "Conductivity       0\n",
              "Organic_carbon     0\n",
              "Trihalomethanes    0\n",
              "Turbidity          0\n",
              "Potability         0\n",
              "dtype: int64"
            ]
          },
          "execution_count": 18,
          "metadata": {},
          "output_type": "execute_result"
        }
      ],
      "source": [
        "# check to see if there is still nulls remaining\n",
        "df.isnull().sum()"
      ]
    },
    {
      "cell_type": "code",
      "execution_count": 19,
      "metadata": {
        "colab": {
          "base_uri": "https://localhost:8080/"
        },
        "id": "Llgx-Faf4-JY",
        "outputId": "fb3acec4-13df-4387-cc71-f94e0b6da6ff"
      },
      "outputs": [
        {
          "data": {
            "text/plain": [
              "0"
            ]
          },
          "execution_count": 19,
          "metadata": {},
          "output_type": "execute_result"
        }
      ],
      "source": [
        "#check to see if there is duplicats data\n",
        "df.duplicated().sum()"
      ]
    },
    {
      "cell_type": "markdown",
      "metadata": {
        "id": "Ym0j3yg-4-Ja"
      },
      "source": [
        "## outliers"
      ]
    },
    {
      "cell_type": "code",
      "execution_count": 20,
      "metadata": {
        "colab": {
          "base_uri": "https://localhost:8080/"
        },
        "id": "mHFS56H04-Jc",
        "outputId": "d72140e0-2fda-4124-d869-063d7b5427b3"
      },
      "outputs": [
        {
          "name": "stdout",
          "output_type": "stream",
          "text": [
            "The number of outliers in ph  before deletion: 142\n",
            "The number of outliers in Hardness  before deletion: 83\n",
            "The number of outliers in Solids  before deletion: 47\n",
            "The number of outliers in Chloramines  before deletion: 61\n",
            "The number of outliers in Sulfate  before deletion: 264\n",
            "The number of outliers in Conductivity  before deletion: 11\n",
            "The number of outliers in Organic_carbon  before deletion: 25\n",
            "The number of outliers in Trihalomethanes  before deletion: 54\n",
            "The number of outliers in Turbidity  before deletion: 19\n"
          ]
        }
      ],
      "source": [
        "# calculating number of outliers with iqr\n",
        "for col in df.columns:\n",
        "  if col== \"Potability\":\n",
        "      continue\n",
        "  q1 = np.percentile(df[col], 25)\n",
        "  q3 = np.percentile(df[col], 75)\n",
        "  norm_range = (q3 - q1) * 1.5\n",
        "  lower_outliers = df[df[col] < (q1 - norm_range)]\n",
        "  upper_outliers = df[df[col] > (q3 + norm_range)]\n",
        "  outliers = len(lower_outliers)+len(upper_outliers)\n",
        "  print(f\"The number of outliers in {col}  before deletion: {outliers}\")\n",
        "\n",
        "\n",
        "\n"
      ]
    },
    {
      "cell_type": "code",
      "execution_count": 21,
      "metadata": {
        "id": "deUMxpOt4-Js"
      },
      "outputs": [],
      "source": [
        "# df\n",
        "# for col in df.columns:\n",
        "#     if col== \"Potability\":\n",
        "#         continue\n",
        "#     # Calculate the first and third quartiles\n",
        "#     q1 = np.percentile(df[col], 25)\n",
        "#     q3 = np.percentile(df[col], 75)\n",
        "\n",
        "#     # Calculate the interquartile range (IQR)\n",
        "#     iqr = (q3 - q1) * 1.5\n",
        "\n",
        "#     # Calculate the lower and upper bounds\n",
        "#     lower_bound = q1 - iqr\n",
        "#     upper_bound = q3 + iqr\n",
        "\n",
        "#     # Replace outliers with the upper bound and lower bound values\n",
        "#     df[col] = np.where(df[col] < lower_bound, lower_bound,np.where(df[col] > upper_bound, upper_bound, df[col]))\n",
        "\n",
        "\n",
        "for col in df.columns:\n",
        "    if col == \"Potability\":\n",
        "        continue\n",
        "\n",
        "    # Calculate the first and third quartiles\n",
        "    q1 = np.percentile(df[col], 25)\n",
        "    q3 = np.percentile(df[col], 75)\n",
        "\n",
        "    # Calculate the interquartile range (IQR)\n",
        "    iqr = (q3 - q1) * 1.5\n",
        "\n",
        "    # Calculate the lower and upper bounds\n",
        "    lower_bound = q1 - iqr\n",
        "    upper_bound = q3 + iqr\n",
        "\n",
        "    # Remove outliers by filtering the DataFrame\n",
        "    df = df[(df[col] >= lower_bound) & (df[col] <= upper_bound)]\n",
        "\n"
      ]
    },
    {
      "cell_type": "markdown",
      "metadata": {
        "id": "49ED1w-r4-J0"
      },
      "source": [
        "##  Resample"
      ]
    },
    {
      "cell_type": "markdown",
      "metadata": {},
      "source": [
        "### target column balance check"
      ]
    },
    {
      "cell_type": "code",
      "execution_count": 22,
      "metadata": {
        "colab": {
          "base_uri": "https://localhost:8080/",
          "height": 461
        },
        "id": "-6UxC1pa4-J1",
        "outputId": "82a1cdb1-e687-41a9-de85-156f9883b9fa"
      },
      "outputs": [
        {
          "data": {
            "text/plain": [
              "<Axes: xlabel='Potability'>"
            ]
          },
          "execution_count": 22,
          "metadata": {},
          "output_type": "execute_result"
        },
        {
          "data": {
            "image/png": "[encoded data removed]",
            "text/plain": [
              "<Figure size 640x480 with 1 Axes>"
            ]
          },
          "metadata": {},
          "output_type": "display_data"
        }
      ],
      "source": [
        "df[\"Potability\"].value_counts().plot(kind='bar')"
      ]
    },
    {
      "cell_type": "markdown",
      "metadata": {
        "id": "1C1rlyp14-J2"
      },
      "source": [
        "we have imbalnced data so we will oversample the minority class '1'"
      ]
    },
    {
      "cell_type": "markdown",
      "metadata": {},
      "source": [
        "### oversampling"
      ]
    },
    {
      "cell_type": "code",
      "execution_count": 23,
      "metadata": {
        "id": "eL38_WX74-J5"
      },
      "outputs": [],
      "source": [
        "from sklearn.utils import resample\n",
        "#spliting the data\n",
        "notpotable  = df[df['Potability']==0]\n",
        "potable = df[df['Potability']==1]\n",
        "df_minority_upsampled = resample(potable, replace = True, n_samples = 1664)#oversampling\n",
        "\n",
        "from sklearn.utils import shuffle\n",
        "df = pd.concat([notpotable, df_minority_upsampled])#rejoining the data\n",
        "# df = shuffle(df)#Shuffling the rows\n",
        "\n",
        "\n"
      ]
    },
    {
      "cell_type": "code",
      "execution_count": 24,
      "metadata": {
        "colab": {
          "base_uri": "https://localhost:8080/",
          "height": 513
        },
        "id": "R4ZUTAhc4-J6",
        "outputId": "c0f86a7e-ca47-47f0-fb35-57b1b79f0091"
      },
      "outputs": [
        {
          "name": "stdout",
          "output_type": "stream",
          "text": [
            "Potability\n",
            "0    1664\n",
            "1    1664\n",
            "Name: count, dtype: int64\n"
          ]
        },
        {
          "data": {
            "image/png": "[encoded data removed]",
            "text/plain": [
              "<Figure size 640x480 with 1 Axes>"
            ]
          },
          "metadata": {},
          "output_type": "display_data"
        }
      ],
      "source": [
        "df[\"Potability\"].value_counts().plot(kind='bar')\n",
        "print(df['Potability'].value_counts())\n"
      ]
    },
    {
      "cell_type": "markdown",
      "metadata": {
        "id": "IYo6bjjq4-J7"
      },
      "source": [
        "## feature selection"
      ]
    },
    {
      "cell_type": "code",
      "execution_count": 25,
      "metadata": {
        "colab": {
          "base_uri": "https://localhost:8080/"
        },
        "id": "KvSGe0XN4-J9",
        "outputId": "837a896f-ee81-44ea-903c-1445e50a9684"
      },
      "outputs": [
        {
          "name": "stdout",
          "output_type": "stream",
          "text": [
            "Sorted Features by Importance:\n",
            "           Feature  Importance\n",
            "4          Sulfate    0.283142\n",
            "0               ph    0.184479\n",
            "1         Hardness    0.088047\n",
            "2           Solids    0.086057\n",
            "3      Chloramines    0.082880\n",
            "7  Trihalomethanes    0.071728\n",
            "5     Conductivity    0.070709\n",
            "6   Organic_carbon    0.067350\n",
            "8        Turbidity    0.065609\n"
          ]
        }
      ],
      "source": [
        "from sklearn.ensemble import RandomForestClassifier\n",
        "from sklearn.model_selection import train_test_split\n",
        "X = df.drop('Potability', axis=1)  # Features\n",
        "y = df['Potability']  # Target\n",
        "# Train a RandomForestClassifier to get feature importances\n",
        "# Split data into train and test sets\n",
        "X_train, X_test, y_train, y_test = train_test_split(X, y, test_size=0.2, random_state=42)\n",
        "clf = RandomForestClassifier(random_state=42)\n",
        "clf.fit(X_train, y_train)\n",
        "\n",
        "# Get feature importances\n",
        "importance_scores = clf.feature_importances_\n",
        "\n",
        "# Create a DataFrame to store feature names and their importance scores\n",
        "feature_importance_df = pd.DataFrame({'Feature': X_train.columns, 'Importance': importance_scores})\n",
        "\n",
        "# Sort features by importance score (descending order)\n",
        "feature_importance_df_sorted = feature_importance_df.sort_values(by='Importance', ascending=False)\n",
        "\n",
        "# Print sorted feature importance\n",
        "print(\"Sorted Features by Importance:\")\n",
        "print(feature_importance_df_sorted)"
      ]
    },
    {
      "cell_type": "markdown",
      "metadata": {
        "id": "0V0UJe674-KC"
      },
      "source": [
        "drop Organic_carbon, Conductivity, Trihalomethanes, Turbidity"
      ]
    },
    {
      "cell_type": "code",
      "execution_count": 26,
      "metadata": {
        "id": "1NRzbPJS4-KD"
      },
      "outputs": [],
      "source": [
        "# df.drop(columns=['Turbidity','Trihalomethanes','Conductivity'], inplace=True)"
      ]
    },
    {
      "cell_type": "markdown",
      "metadata": {
        "id": "z1aLg5hY4-KD"
      },
      "source": [
        "# ```modeling```"
      ]
    },
    {
      "cell_type": "markdown",
      "metadata": {},
      "source": [
        "## preparing data for modeling"
      ]
    },
    {
      "cell_type": "code",
      "execution_count": 27,
      "metadata": {
        "id": "VK6bv2_A4-Kq"
      },
      "outputs": [],
      "source": [
        "from sklearn.linear_model import LogisticRegression\n",
        "from sklearn.metrics import classification_report, confusion_matrix,accuracy_score\n",
        "from sklearn.model_selection import RandomizedSearchCV, GridSearchCV\n",
        "from sklearn import metrics\n",
        "from sklearn.preprocessing import StandardScaler"
      ]
    },
    {
      "cell_type": "code",
      "execution_count": 28,
      "metadata": {
        "id": "8gW6Yjw64-Kr"
      },
      "outputs": [],
      "source": [
        "#spllitning the data\n",
        "x=df.drop(columns=['Potability'])\n",
        "y=df['Potability']\n",
        "\n",
        "\n"
      ]
    },
    {
      "cell_type": "code",
      "execution_count": 29,
      "metadata": {
        "id": "a-UWa9Pl4-K4"
      },
      "outputs": [],
      "source": [
        "# st = StandardScaler()\n",
        "# col= x.columns\n",
        "# x[col] = st.fit_transform(x[col])\n",
        "from sklearn.preprocessing import MinMaxScaler\n",
        "\n",
        "# Define the columns to be scaled\n",
        "columns_to_scale = ['Hardness', 'Solids', 'Sulfate', 'Conductivity']\n",
        "\n",
        "# Initialize the MinMaxScaler\n",
        "scaler = MinMaxScaler(feature_range=(0, 1))\n",
        "\n",
        "# Fit and transform the selected columns in the DataFrame\n",
        "df[columns_to_scale] = scaler.fit_transform(df[columns_to_scale])\n",
        "\n"
      ]
    },
    {
      "cell_type": "code",
      "execution_count": 30,
      "metadata": {
        "id": "RSR0GFmp4-K5"
      },
      "outputs": [],
      "source": [
        "from sklearn.model_selection import train_test_split\n",
        "X_train, X_test, y_train, y_test = train_test_split(x, y, test_size =.2, random_state = 42, stratify=y)\n",
        "\n"
      ]
    },
    {
      "cell_type": "markdown",
      "metadata": {
        "id": "MCZnQKvB4-LF"
      },
      "source": [
        "## descion tree"
      ]
    },
    {
      "cell_type": "code",
      "execution_count": 33,
      "metadata": {
        "colab": {
          "base_uri": "https://localhost:8080/"
        },
        "id": "9V4easu44-LH",
        "outputId": "c0020ad7-8f4a-40d8-a286-e364f6c11b98"
      },
      "outputs": [
        {
          "name": "stdout",
          "output_type": "stream",
          "text": [
            "Accuracy: 0.8378378378378378\n"
          ]
        }
      ],
      "source": [
        "from sklearn.tree import DecisionTreeClassifier\n",
        "# para_dt = {'criterion':['gini','entropy'],'max_depth':np.arange(1, 50), 'min_samples_leaf':[1,2,4,5,10,20,30,40,80,100]}\n",
        "# grid_dt = GridSearchCV(dt, param_grid=para_dt, cv=5) #grid search decision tree for 5 fold cv\n",
        "\n",
        "# Define the Decision Tree classifier with max_depth=10\n",
        "dt = DecisionTreeClassifier()\n",
        "# Fit the model to the training data\n",
        "dt.fit(X_train, y_train)\n",
        "# Predict on the test data\n",
        "y_pred_test_dt = dt.predict(X_test)\n",
        "# Calculate accuracy \n",
        "print(\"Accuracy:\", accuracy_score(y_test, y_pred_test_dt))\n"
      ]
    },
    {
      "cell_type": "code",
      "execution_count": 34,
      "metadata": {
        "colab": {
          "base_uri": "https://localhost:8080/",
          "height": 449
        },
        "id": "3OjNzAIP4-LI",
        "outputId": "54acdd89-1bdb-4a31-d9f7-523dd3f5e83d"
      },
      "outputs": [
        {
          "data": {
            "image/png": "[encoded data removed]",
            "text/plain": [
              "<Figure size 640x480 with 2 Axes>"
            ]
          },
          "metadata": {},
          "output_type": "display_data"
        }
      ],
      "source": [
        "cm=confusion_matrix(y_test,y_pred_test_dt)\n",
        "cmd=metrics.ConfusionMatrixDisplay(cm)\n",
        "cmd.plot()\n",
        "plt.show()"
      ]
    },
    {
      "cell_type": "markdown",
      "metadata": {
        "id": "z3rFZvU54-LK"
      },
      "source": [
        "## Random forest"
      ]
    },
    {
      "cell_type": "code",
      "execution_count": 35,
      "metadata": {
        "colab": {
          "base_uri": "https://localhost:8080/"
        },
        "id": "G-G0q17I4-LL",
        "outputId": "39b184dc-91b9-41a5-fdbc-b6c7453649cd"
      },
      "outputs": [
        {
          "name": "stdout",
          "output_type": "stream",
          "text": [
            "Accuracy: 0.9114114114114115\n"
          ]
        }
      ],
      "source": [
        "from sklearn.ensemble import RandomForestClassifier\n",
        "rf = RandomForestClassifier(random_state=42)\n",
        "params_rf = param_grid = {\n",
        "    'n_estimators': [100, 200, 300, 400],\n",
        "    'max_depth': [None, 10, 20, 30],\n",
        "    'min_samples_split': [2, 5, 10],\n",
        "    'min_samples_leaf': [1, 2, 4]\n",
        "}\n",
        "#grid_rf = GridSearchCV(estimator=rf, param_grid=params_rf, cv=10,scoring='')\n",
        "#grid_rf.fit(X_train, y_train)\n",
        "#best_params = grid_rf.best_params_\n",
        "# best_rf_model = RandomForestClassifier(**best_params, random_state=42)\n",
        "\n",
        "# Train the final model using the best hyperparameters\n",
        "# best_rf_model.fit(X_train, y_train)\n",
        "\n",
        "# Evaluate the final model on the test set\n",
        "# test_accuracy = best_rf_model.score(X_test, y_test)\n",
        "# test_accuracy = best_rf_model.score(X_test, y_test)\n",
        "rf.fit(X_train, y_train)\n",
        "y_pred_test_rf = rf.predict(X_test)\n",
        "print(\"Accuracy:\" ,accuracy_score(y_test,y_pred_test_rf))"
      ]
    },
    {
      "cell_type": "code",
      "execution_count": 36,
      "metadata": {
        "colab": {
          "base_uri": "https://localhost:8080/",
          "height": 449
        },
        "id": "XlKbZto24-LS",
        "outputId": "8e993ad4-7aab-4613-8d01-fb6e91c290e7"
      },
      "outputs": [
        {
          "data": {
            "image/png": "[encoded data removed]",
            "text/plain": [
              "<Figure size 640x480 with 2 Axes>"
            ]
          },
          "metadata": {},
          "output_type": "display_data"
        }
      ],
      "source": [
        "cm=confusion_matrix(y_test,y_pred_test_rf)\n",
        "cmd=metrics.ConfusionMatrixDisplay(cm)\n",
        "cmd.plot()\n",
        "plt.show()"
      ]
    },
    {
      "cell_type": "markdown",
      "metadata": {
        "id": "BSStr0md4-LV"
      },
      "source": [
        "## KNN"
      ]
    },
    {
      "cell_type": "code",
      "execution_count": 37,
      "metadata": {},
      "outputs": [
        {
          "data": {
            "text/plain": [
              "[<matplotlib.lines.Line2D at 0x157c6b610>]"
            ]
          },
          "execution_count": 37,
          "metadata": {},
          "output_type": "execute_result"
        },
        {
          "data": {
            "image/png": "[encoded data removed]",
            "text/plain": [
              "<Figure size 700x700 with 1 Axes>"
            ]
          },
          "metadata": {},
          "output_type": "display_data"
        }
      ],
      "source": [
        "from sklearn.neighbors import KNeighborsClassifier\n",
        "wss=[]\n",
        "for k in range (1,16,2):\n",
        "    knn= KNeighborsClassifier(n_neighbors=k)\n",
        "    knn=knn.fit(X_train,y_train)\n",
        "    s=knn.score(X_test, y_test)\n",
        "    wss.append(s)\n",
        "plt.figure(figsize=(7,7))\n",
        "plt.xlabel('K')\n",
        "plt.ylabel('Accuracy')\n",
        "plt.plot(range(1,16,2),wss)    "
      ]
    },
    {
      "cell_type": "code",
      "execution_count": 38,
      "metadata": {},
      "outputs": [
        {
          "name": "stdout",
          "output_type": "stream",
          "text": [
            "0.7419081411393653\n"
          ]
        }
      ],
      "source": [
        "from sklearn.model_selection import cross_val_score\n",
        "knn = KNeighborsClassifier(n_neighbors=1)\n",
        "knn.fit(X_train,y_train)\n",
        "\n",
        "scores_knn = cross_val_score(knn, X_train, y_train, cv=10,scoring=\"accuracy\")\n",
        "print(scores_knn.mean())"
      ]
    },
    {
      "cell_type": "code",
      "execution_count": 39,
      "metadata": {},
      "outputs": [
        {
          "name": "stdout",
          "output_type": "stream",
          "text": [
            "Accuracy: 0.7462462462462462\n"
          ]
        }
      ],
      "source": [
        "y_pred_test_knn=knn.predict(X_test)\n",
        "print(\"Accuracy:\", accuracy_score(y_test, y_pred_test_knn))"
      ]
    },
    {
      "cell_type": "code",
      "execution_count": 40,
      "metadata": {},
      "outputs": [
        {
          "data": {
            "image/png": "[encoded data removed]",
            "text/plain": [
              "<Figure size 640x480 with 2 Axes>"
            ]
          },
          "metadata": {},
          "output_type": "display_data"
        }
      ],
      "source": [
        "cm=confusion_matrix(y_test,y_pred_test_knn)\n",
        "cmd=metrics.ConfusionMatrixDisplay(cm)\n",
        "cmd.plot()\n",
        "plt.show()"
      ]
    },
    {
      "cell_type": "markdown",
      "metadata": {},
      "source": [
        "## SVM"
      ]
    },
    {
      "cell_type": "code",
      "execution_count": 47,
      "metadata": {
        "colab": {
          "base_uri": "https://localhost:8080/"
        },
        "id": "R8n7Y2HiKiuW",
        "outputId": "b2efa83e-b169-4742-edd5-7b0cbf44b7b6"
      },
      "outputs": [
        {
          "name": "stdout",
          "output_type": "stream",
          "text": [
            "Accuracy: 0.8828828828828829\n"
          ]
        }
      ],
      "source": [
        "from sklearn.ensemble import BaggingClassifier\n",
        "from sklearn.ensemble import AdaBoostClassifier\n",
        "from sklearn.svm import SVC\n",
        "\n",
        "# Base SVM model\n",
        "# Define the hyperparameter grid\n",
        "# param_grid = {\n",
        "#     'C': [0.1, .01, 10],\n",
        "#     # 'gamma': ['scale', 'auto']\n",
        "#         'gamma': [.1, 1, 10]  # Adjusted gamma values\n",
        "\n",
        "# }\n",
        "param_grid = {\n",
        "    'C': [0.01, 1, 0.1],  # Decreased values for C\n",
        "    'gamma': [0.01, 0.1, .1]  # Decreased values for gamma\n",
        "}\n",
        "\n",
        "# Perform grid search with cross-validation\n",
        "# grid_search = GridSearchCV(support, param_grid, cv=5)\n",
        "\n",
        "# # Fit the grid search to the training data\n",
        "# grid_search.fit(X_train, y_train)\n",
        "\n",
        "# # Get the best hyperparameters\n",
        "# best_params = grid_search.best_params_\n",
        "\n",
        "# # Create a new SVM classifier with the best hyperparameters\n",
        "# best_support = svm.SVC(**best_params, random_state=42)\n",
        "# Fit the model to the training data\n",
        "# best_support.fit(X_train, y_train)\n",
        "\n",
        "base_model = SVC(kernel='rbf', random_state=42,gamma= 1,C =1)\n",
        "# Bagging classifier\n",
        "bagging_model = BaggingClassifier(estimator=base_model, n_estimators=100, random_state=42)\n",
        "bagging_model.fit(X_train, y_train)\n",
        "# Evaluate the ensemble model\n",
        "test_accuracy_bagging = bagging_model.score(X_test, y_test)\n",
        "y_pred_test_svm=bagging_model.predict(X_test)\n",
        "print(f\"Accuracy: {test_accuracy_bagging}\")\n"
      ]
    },
    {
      "cell_type": "code",
      "execution_count": 48,
      "metadata": {
        "colab": {
          "base_uri": "https://localhost:8080/",
          "height": 449
        },
        "id": "ZAa1STsj4-La",
        "outputId": "b70e111e-6f16-403e-e980-11af7533fd3e"
      },
      "outputs": [
        {
          "data": {
            "image/png": "[encoded data removed]",
            "text/plain": [
              "<Figure size 640x480 with 2 Axes>"
            ]
          },
          "metadata": {},
          "output_type": "display_data"
        }
      ],
      "source": [
        "from sklearn.metrics import confusion_matrix\n",
        "from sklearn import metrics\n",
        "cm=confusion_matrix(y_test,y_pred_test_svm)\n",
        "cmd=metrics.ConfusionMatrixDisplay(cm)\n",
        "cmd.plot()\n",
        "plt.show()"
      ]
    },
    {
      "cell_type": "markdown",
      "metadata": {},
      "source": [
        "## XGboost"
      ]
    },
    {
      "cell_type": "code",
      "execution_count": 49,
      "metadata": {},
      "outputs": [
        {
          "name": "stdout",
          "output_type": "stream",
          "text": [
            "Accuracy (XGBoost): 0.8933933933933934\n"
          ]
        }
      ],
      "source": [
        "from xgboost import XGBClassifier\n",
        "# Create XGBoost model\n",
        "xgboost = XGBClassifier()\n",
        "# Fit the XGBoost model to the training data\n",
        "xgboost.fit(X_train, y_train)\n",
        "# Predict on the test data using XGBoost\n",
        "y_pred_test_xgboost = xgboost.predict(X_test)\n",
        "# Calculate accuracy using XGBoost\n",
        "print(\"Accuracy (XGBoost):\", accuracy_score(y_test, y_pred_test_xgboost))"
      ]
    },
    {
      "cell_type": "code",
      "execution_count": 51,
      "metadata": {},
      "outputs": [
        {
          "data": {
            "image/png": "[encoded data removed]",
            "text/plain": [
              "<Figure size 640x480 with 2 Axes>"
            ]
          },
          "metadata": {},
          "output_type": "display_data"
        }
      ],
      "source": [
        "from sklearn.metrics import confusion_matrix\n",
        "from sklearn import metrics\n",
        "cm=confusion_matrix(y_test,y_pred_test_xgboost)\n",
        "cmd=metrics.ConfusionMatrixDisplay(cm)\n",
        "cmd.plot()\n",
        "plt.show()"
      ]
    },
    {
      "cell_type": "markdown",
      "metadata": {},
      "source": [
        "## esnmable models"
      ]
    },
    {
      "cell_type": "markdown",
      "metadata": {},
      "source": [
        "### stacking"
      ]
    },
    {
      "cell_type": "code",
      "execution_count": 53,
      "metadata": {},
      "outputs": [
        {
          "name": "stdout",
          "output_type": "stream",
          "text": [
            "Test Accuracy:  0.8918918918918919\n"
          ]
        }
      ],
      "source": [
        "from sklearn.ensemble import StackingClassifier\n",
        "# Base models\n",
        "base_models = [\n",
        "    ('svm', SVC(C=0.4, kernel='rbf', probability=True)),\n",
        "    ('rf', RandomForestClassifier(random_state=42,max_depth=10)),\n",
        "    ('knn', KNeighborsClassifier(n_neighbors=1))\n",
        "]\n",
        "# Meta-learner\n",
        "meta_model = LogisticRegression()\n",
        "# Stacking classifier\n",
        "stacking_model = StackingClassifier(estimators=base_models, final_estimator=meta_model)\n",
        "stacking_model.fit(X_train, y_train)\n",
        "y_pred_test_stack=stacking_model.predict(X_test)\n",
        "# Evaluate the ensemble model\n",
        "print(\"Test Accuracy: \", stacking_model.score(X_test, y_test))"
      ]
    },
    {
      "cell_type": "code",
      "execution_count": 54,
      "metadata": {},
      "outputs": [
        {
          "data": {
            "image/png": "[encoded data removed]",
            "text/plain": [
              "<Figure size 640x480 with 2 Axes>"
            ]
          },
          "metadata": {},
          "output_type": "display_data"
        }
      ],
      "source": [
        "from sklearn.metrics import confusion_matrix\n",
        "from sklearn import metrics\n",
        "cm=confusion_matrix(y_test,y_pred_test_stack)\n",
        "cmd=metrics.ConfusionMatrixDisplay(cm)\n",
        "cmd.plot()\n",
        "plt.show()"
      ]
    },
    {
      "cell_type": "markdown",
      "metadata": {},
      "source": [
        "### voting"
      ]
    },
    {
      "cell_type": "code",
      "execution_count": 56,
      "metadata": {},
      "outputs": [
        {
          "name": "stdout",
          "output_type": "stream",
          "text": [
            "Accuracy: 0.8993993993993994\n"
          ]
        }
      ],
      "source": [
        "from sklearn.ensemble import VotingClassifier\n",
        "# Base models\n",
        "model1 = LogisticRegression()\n",
        "model2 =  RandomForestClassifier(random_state=42)\n",
        "model3 = SVC(C=1, kernel='rbf', probability=True)\n",
        "# Voting classifier\n",
        "voting_model = VotingClassifier(estimators=[\n",
        "    ('lr', model1),\n",
        "    ('dt', model2),\n",
        "    ('svm', model3),\n",
        "], voting='soft')  # 'hard' for majority voting, 'soft' for weighted voting\n",
        "voting_model.fit(X_train, y_train)\n",
        "# Evaluate the ensemble model\n",
        "y_pred_test_voting=voting_model.predict(X_test)\n",
        "print(\"Accuracy:\",voting_model.score(X_test, y_test))\n"
      ]
    },
    {
      "cell_type": "code",
      "execution_count": 57,
      "metadata": {},
      "outputs": [
        {
          "data": {
            "image/png": "[encoded data removed]",
            "text/plain": [
              "<Figure size 640x480 with 2 Axes>"
            ]
          },
          "metadata": {},
          "output_type": "display_data"
        }
      ],
      "source": [
        "from sklearn.metrics import confusion_matrix\n",
        "from sklearn import metrics\n",
        "cm=confusion_matrix(y_test,y_pred_test_voting)\n",
        "cmd=metrics.ConfusionMatrixDisplay(cm)\n",
        "cmd.plot()\n",
        "plt.show()"
      ]
    }
  ],
  "metadata": {
    "colab": {
      "provenance": []
    },
    "kernelspec": {
      "display_name": "Python 3",
      "language": "python",
      "name": "python3"
    },
    "language_info": {
      "codemirror_mode": {
        "name": "ipython",
        "version": 3
      },
      "file_extension": ".py",
      "mimetype": "text/x-python",
      "name": "python",
      "nbconvert_exporter": "python",
      "pygments_lexer": "ipython3",
      "version": "3.11.4"
    }
  },
  "nbformat": 4,
  "nbformat_minor": 0
}
